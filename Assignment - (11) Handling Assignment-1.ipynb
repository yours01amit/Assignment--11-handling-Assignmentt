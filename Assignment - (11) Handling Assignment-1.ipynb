{
 "cells": [
  {
   "cell_type": "markdown",
   "id": "32c73ef9",
   "metadata": {},
   "source": [
    "Q1. What is an Exception in python? Write the difference between Exceptions and Syntax errors.\n",
    "\n",
    "Ans:  An exception is an event, which occurs during the execution of a program that disrupts the           normal flow of the program's instructions. In general, when a Python script encounters a situation   that it cannot cope with, it raises an exception. An exception is a Python object that represents an   error.\n",
    "\n",
    "\n",
    " The main difference between an exception and a syntax error in Python is that a syntax error occurs when the code contains invalid syntax, while an exception occurs when an error occurs during the execution of the program.\n",
    "\n",
    "A syntax error is a type of error that occurs when the code violates the rules of the Python language syntax. These errors are typically detected by the Python interpreter during the parsing of the code, before the code is executed.\n",
    "\n",
    "Examples of syntax errors include misspelled keywords, missing parentheses, or incorrect indentation. Syntax errors prevent the code from being executed, and the Python interpreter displays an error message that describes the problem.\n",
    "\n",
    "\n",
    "An exception, on the other hand, is an error that occurs during the execution of the program, even if the code is syntactically correct. Exceptions are typically caused by runtime errors or unexpected conditions that the program encounters during execution. \n",
    "\n",
    "Examples of exceptions include division by zero, accessing an undefined variable, or trying to open a file that doesn't exist. When an exception occurs, the program stops executing and raises an exception object that contains information about the error.\n",
    "\n",
    "\n",
    "In summary, a syntax error occurs during the parsing of the code before the program is executed, while an exception occurs during the execution of the program when an unexpected condition or error occurs."
   ]
  },
  {
   "cell_type": "code",
   "execution_count": 1,
   "id": "00859190",
   "metadata": {},
   "outputs": [
    {
     "ename": "SyntaxError",
     "evalue": "invalid syntax. Maybe you meant '==' or ':=' instead of '='? (10888459.py, line 9)",
     "output_type": "error",
     "traceback": [
      "\u001b[1;36m  Cell \u001b[1;32mIn [1], line 9\u001b[1;36m\u001b[0m\n\u001b[1;33m    if b = 5:\u001b[0m\n\u001b[1;37m       ^\u001b[0m\n\u001b[1;31mSyntaxError\u001b[0m\u001b[1;31m:\u001b[0m invalid syntax. Maybe you meant '==' or ':=' instead of '='?\n"
     ]
    }
   ],
   "source": [
    "# Example of an Exception\n",
    "try:\n",
    "    a = 10 / 0\n",
    "except ZeroDivisionError:\n",
    "    print(\"Error: Division by zero\")\n",
    "\n",
    "# Example of a Syntax error\n",
    "b = 10\n",
    "if b = 5:\n",
    "    print(\"b is equal to 5\")"
   ]
  },
  {
   "cell_type": "markdown",
   "id": "18988cec",
   "metadata": {},
   "source": [
    "Q2. what happens when an exception is not handled? Explain with an example.\n",
    "\n",
    "Ans: When an exception is not handled in a Python program, it will cause the program to terminate and an error message will be displayed that describes the type of exception that occurred and the line of code where the exception occurred.\n",
    "\n",
    "Here's below an example that demonstrates what happens when an exception is not handled:\n",
    "As we can see from the error message, Python tells us that a ZeroDivisionError occurred and that it was caused by a division by zero on line 1 of the code. The \"Traceback\" section of the error message shows the sequence of function calls that led to the exception.\n",
    "\n",
    "In summary, if an exception is not handled in a Python program, it will cause the program to terminate and display an error message that describes the type of exception that occurred and the line of code where the exception occurred. It's important to handle exceptions in your code to prevent unexpected program termination and to provide a graceful way to handle errors."
   ]
  },
  {
   "cell_type": "code",
   "execution_count": 2,
   "id": "77fad328",
   "metadata": {},
   "outputs": [
    {
     "ename": "ZeroDivisionError",
     "evalue": "division by zero",
     "output_type": "error",
     "traceback": [
      "\u001b[1;31m---------------------------------------------------------------------------\u001b[0m",
      "\u001b[1;31mZeroDivisionError\u001b[0m                         Traceback (most recent call last)",
      "Cell \u001b[1;32mIn [2], line 2\u001b[0m\n\u001b[0;32m      1\u001b[0m \u001b[38;5;66;03m# Example of an unhandled exception\u001b[39;00m\n\u001b[1;32m----> 2\u001b[0m a \u001b[38;5;241m=\u001b[39m \u001b[38;5;241;43m10\u001b[39;49m\u001b[43m \u001b[49m\u001b[38;5;241;43m/\u001b[39;49m\u001b[43m \u001b[49m\u001b[38;5;241;43m0\u001b[39;49m\n\u001b[0;32m      3\u001b[0m \u001b[38;5;28mprint\u001b[39m(\u001b[38;5;124m\"\u001b[39m\u001b[38;5;124mResult: \u001b[39m\u001b[38;5;124m\"\u001b[39m, a)\n",
      "\u001b[1;31mZeroDivisionError\u001b[0m: division by zero"
     ]
    }
   ],
   "source": [
    "# Example of an unhandled exception\n",
    "a = 10 / 0\n",
    "print(\"Result: \", a)"
   ]
  },
  {
   "cell_type": "markdown",
   "id": "30f3822f",
   "metadata": {},
   "source": [
    "Q3: Which python statement are used to catch and handle exceptions? Explain with an example.\n",
    "\n",
    "Ans: In Python, the try and except statements are used to catch and handle exceptions. The try statement is used to enclose a block of code that might raise an exception, while the except statement is used to specify how to handle the exception if one is raised.\n"
   ]
  },
  {
   "cell_type": "code",
   "execution_count": 3,
   "id": "f5a5f8e5",
   "metadata": {},
   "outputs": [
    {
     "name": "stdout",
     "output_type": "stream",
     "text": [
      "Enter your age: jfnslk\n",
      "please Enter the valid age\n"
     ]
    }
   ],
   "source": [
    "'''Here's an example that demonstrates how to catch and handle an exception \n",
    "in Python using try and except'''\n",
    "\n",
    "\n",
    "try:    \n",
    "    age = int(input(\"Enter your age: \"))\n",
    "    print(\"Your entered age is: \", age)\n",
    "except:\n",
    "    print(\"please Enter the valid age\")\n",
    "    "
   ]
  },
  {
   "cell_type": "markdown",
   "id": "ef16195f",
   "metadata": {},
   "source": [
    "Q4. Explain with an example:\n",
    "    a. try and else\n",
    "    b. finally\n",
    "    c. raise\n",
    "    \n",
    "    \n",
    "Ans: a. try and else- In Python, the try statement can be followed by an optional else block. The else block is executed only if the try block does not raise an exception. It is often used to specify code that should be executed regardless of whether an exception occurred or not"
   ]
  },
  {
   "cell_type": "code",
   "execution_count": 6,
   "id": "5549bf38",
   "metadata": {},
   "outputs": [
    {
     "name": "stdout",
     "output_type": "stream",
     "text": [
      "Enter first number: 45\n",
      "Enter second number: 45\n",
      "x= 90\n"
     ]
    }
   ],
   "source": [
    "# example of try and else\n",
    "\n",
    "try:\n",
    "    a = int(input(\"Enter first number: \"))\n",
    "    b = int(input(\"Enter second number: \"))\n",
    "    x = a+b\n",
    "except:\n",
    "    print(\"Enter valid integar\")\n",
    "    \n",
    "else:\n",
    "    print(\"x=\", x)"
   ]
  },
  {
   "cell_type": "markdown",
   "id": "d0a55ebb",
   "metadata": {},
   "source": [
    "b. finally - In Python, the finally block can be used to specify code that should be executed regardless of whether an exception was raised or not. The finally block is always executed, even if an exception occurred and was caught by an except block."
   ]
  },
  {
   "cell_type": "code",
   "execution_count": 15,
   "id": "881aa112",
   "metadata": {},
   "outputs": [
    {
     "name": "stdout",
     "output_type": "stream",
     "text": [
      "Enter the index: 2\n",
      "6\n",
      "I am always executed\n",
      "program completed\n",
      "1\n"
     ]
    }
   ],
   "source": [
    "# example of finally\n",
    "\n",
    "def func():\n",
    "    try:\n",
    "        l = [1, 5, 6, 7]\n",
    "        i = int(input(\"Enter the index: \"))\n",
    "        print(l[i])\n",
    "        return 1\n",
    "    except:\n",
    "        print(\"Some error occurred\")\n",
    "        return 0\n",
    "\n",
    "    finally:\n",
    "        print(\"I am always executed\")\n",
    "        print(\"program completed\")\n",
    "\n",
    "\n",
    "x = func()\n",
    "print(x)"
   ]
  },
  {
   "cell_type": "markdown",
   "id": "34a5b159",
   "metadata": {},
   "source": [
    "c. raise - In Python, the raise statement can be used to raise an exception manually. It is often used            to indicate that an error has occurred and to stop the execution of the program."
   ]
  },
  {
   "cell_type": "code",
   "execution_count": 2,
   "id": "4e0a5281",
   "metadata": {},
   "outputs": [
    {
     "name": "stdout",
     "output_type": "stream",
     "text": [
      "division by zero\n"
     ]
    }
   ],
   "source": [
    "# Example of raise statement\n",
    "\n",
    "def divide(x, y):\n",
    "    if y == 0:\n",
    "        raise ZeroDivisionError(\"division by zero\")\n",
    "    else:\n",
    "        return x / y\n",
    "\n",
    "try:\n",
    "    result = divide(10, 0)\n",
    "except ZeroDivisionError as e:\n",
    "    print(e)\n",
    "else:\n",
    "    print(result)"
   ]
  },
  {
   "cell_type": "markdown",
   "id": "59fa3eaa",
   "metadata": {},
   "source": [
    "Q5. What are Custom Exceptions in python? Why do we need Custom Exceptions? Explain with an example.\n",
    "\n",
    "Ans: n Python, custom exceptions are user-defined exceptions that allow programmers to create their own error messages and exception types.\n",
    "\n",
    "The main reason for creating custom exceptions is to provide more meaningful and specific error messages that are easier to debug and handle. By defining custom exceptions, you can give your programs the ability to raise and catch specific errors that are unique to your application domain."
   ]
  },
  {
   "cell_type": "code",
   "execution_count": 3,
   "id": "67d2f087",
   "metadata": {},
   "outputs": [
    {
     "name": "stdout",
     "output_type": "stream",
     "text": [
      "Enter the name: Amit\n"
     ]
    },
    {
     "ename": "ValueError",
     "evalue": "Sorry Amit you are blocked",
     "output_type": "error",
     "traceback": [
      "\u001b[1;31m---------------------------------------------------------------------------\u001b[0m",
      "\u001b[1;31mValueError\u001b[0m                                Traceback (most recent call last)",
      "Cell \u001b[1;32mIn [3], line 7\u001b[0m\n\u001b[0;32m      5\u001b[0m     \u001b[38;5;28;01mreturn\u001b[39;00m name\n\u001b[0;32m      6\u001b[0m name \u001b[38;5;241m=\u001b[39m \u001b[38;5;28minput\u001b[39m(\u001b[38;5;124m\"\u001b[39m\u001b[38;5;124mEnter the name: \u001b[39m\u001b[38;5;124m\"\u001b[39m)\n\u001b[1;32m----> 7\u001b[0m \u001b[43mblock_name\u001b[49m\u001b[43m(\u001b[49m\u001b[43mname\u001b[49m\u001b[43m)\u001b[49m\n\u001b[0;32m      8\u001b[0m \u001b[38;5;28mprint\u001b[39m(\u001b[38;5;124mf\u001b[39m\u001b[38;5;124m\"\u001b[39m\u001b[38;5;124mHello \u001b[39m\u001b[38;5;132;01m{\u001b[39;00mname\u001b[38;5;132;01m}\u001b[39;00m\u001b[38;5;124m\"\u001b[39m)\n",
      "Cell \u001b[1;32mIn [3], line 3\u001b[0m, in \u001b[0;36mblock_name\u001b[1;34m(name)\u001b[0m\n\u001b[0;32m      1\u001b[0m \u001b[38;5;28;01mdef\u001b[39;00m \u001b[38;5;21mblock_name\u001b[39m(name):\n\u001b[0;32m      2\u001b[0m     \u001b[38;5;28;01mif\u001b[39;00m name\u001b[38;5;241m==\u001b[39m\u001b[38;5;124m\"\u001b[39m\u001b[38;5;124mAmit\u001b[39m\u001b[38;5;124m\"\u001b[39m:\n\u001b[1;32m----> 3\u001b[0m         \u001b[38;5;28;01mraise\u001b[39;00m \u001b[38;5;167;01mValueError\u001b[39;00m(\u001b[38;5;124m\"\u001b[39m\u001b[38;5;124mSorry Amit you are blocked\u001b[39m\u001b[38;5;124m\"\u001b[39m)\n\u001b[0;32m      5\u001b[0m     \u001b[38;5;28;01mreturn\u001b[39;00m name\n",
      "\u001b[1;31mValueError\u001b[0m: Sorry Amit you are blocked"
     ]
    }
   ],
   "source": [
    "def block_name(name):\n",
    "    if name==\"Amit\":\n",
    "        raise ValueError(\"Sorry Amit you are blocked\")\n",
    "        \n",
    "    return name\n",
    "name = input(\"Enter the name: \")\n",
    "block_name(name)\n",
    "print(f\"Hello {name}\")"
   ]
  },
  {
   "cell_type": "markdown",
   "id": "db4798b7",
   "metadata": {},
   "source": [
    "Q1. Create a custom exception class. Use this class to handle an exception."
   ]
  },
  {
   "cell_type": "code",
   "execution_count": 6,
   "id": "3b7bc9b6",
   "metadata": {},
   "outputs": [
    {
     "name": "stdout",
     "output_type": "stream",
     "text": [
      "Input must be non-negative\n"
     ]
    }
   ],
   "source": [
    "# Define a custom exception class\n",
    "class CustomException(Exception):\n",
    "    def __init__(self, message):\n",
    "        self.message = message\n",
    "\n",
    "# Example function that raises the custom exception\n",
    "def example_function(x):\n",
    "    if x < 0:\n",
    "        raise CustomException(\"Input must be non-negative\")\n",
    "\n",
    "# Example usage of the custom exception class\n",
    "try:\n",
    "    example_function(-1)\n",
    "except CustomException as e:\n",
    "    print(e.message)\n"
   ]
  },
  {
   "cell_type": "code",
   "execution_count": null,
   "id": "58475859",
   "metadata": {},
   "outputs": [],
   "source": []
  }
 ],
 "metadata": {
  "kernelspec": {
   "display_name": "Python 3 (ipykernel)",
   "language": "python",
   "name": "python3"
  },
  "language_info": {
   "codemirror_mode": {
    "name": "ipython",
    "version": 3
   },
   "file_extension": ".py",
   "mimetype": "text/x-python",
   "name": "python",
   "nbconvert_exporter": "python",
   "pygments_lexer": "ipython3",
   "version": "3.11.0"
  }
 },
 "nbformat": 4,
 "nbformat_minor": 5
}
